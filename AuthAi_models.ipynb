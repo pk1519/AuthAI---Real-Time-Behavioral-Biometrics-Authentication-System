{
 "cells": [
  {
   "cell_type": "markdown",
   "id": "ae8cb895",
   "metadata": {
    "id": "ae8cb895"
   },
   "source": [
    "# AuthAi: Model Comparison Notebook\n",
    "\n",
    "This notebook reproduces the analysis and comparison of models for AuthAi (behavioral biometrics).\n",
    "\n",
    "**Important:** Some cells (LSTM/Transformer/Autoencoder) require TensorFlow. This runtime lacked TensorFlow, so those cells are included but not executed here. Run the notebook on Colab or a TF-enabled environment to execute sequence models and autoencoder.\n",
    "\n",
    "Files produced by this run (if run fully):\n",
    "- `models/user_behavior_dataset.csv` (input)\n",
    "- `models/model_comparison_results.csv` (results summary)\n",
    "- saved model artifacts in `models/` (if trained)\n"
   ]
  },
  {
   "cell_type": "code",
   "execution_count": 1,
   "id": "90e4a43d",
   "metadata": {
    "colab": {
     "base_uri": "https://localhost:8080/",
     "height": 224
    },
    "id": "90e4a43d",
    "outputId": "1389b6a2-892f-486c-92a9-d62a5573682f"
   },
   "outputs": [
    {
     "name": "stdout",
     "output_type": "stream",
     "text": [
      "Loaded dataset with shape: (10000, 7)\n"
     ]
    },
    {
     "data": {
      "text/html": [
       "<div>\n",
       "<style scoped>\n",
       "    .dataframe tbody tr th:only-of-type {\n",
       "        vertical-align: middle;\n",
       "    }\n",
       "\n",
       "    .dataframe tbody tr th {\n",
       "        vertical-align: top;\n",
       "    }\n",
       "\n",
       "    .dataframe thead th {\n",
       "        text-align: right;\n",
       "    }\n",
       "</style>\n",
       "<table border=\"1\" class=\"dataframe\">\n",
       "  <thead>\n",
       "    <tr style=\"text-align: right;\">\n",
       "      <th></th>\n",
       "      <th>avg_mouse_speed</th>\n",
       "      <th>avg_typing_speed</th>\n",
       "      <th>tab_switch_rate</th>\n",
       "      <th>mouse_click_rate</th>\n",
       "      <th>keyboard_error_rate</th>\n",
       "      <th>active_window_duration</th>\n",
       "      <th>is_improper_user</th>\n",
       "    </tr>\n",
       "  </thead>\n",
       "  <tbody>\n",
       "    <tr>\n",
       "      <th>0</th>\n",
       "      <td>511.541</td>\n",
       "      <td>7.503</td>\n",
       "      <td>8.251</td>\n",
       "      <td>22.321</td>\n",
       "      <td>36.824</td>\n",
       "      <td>213.010</td>\n",
       "      <td>0</td>\n",
       "    </tr>\n",
       "    <tr>\n",
       "      <th>1</th>\n",
       "      <td>69.551</td>\n",
       "      <td>126.577</td>\n",
       "      <td>0.894</td>\n",
       "      <td>21.864</td>\n",
       "      <td>25.268</td>\n",
       "      <td>17.961</td>\n",
       "      <td>0</td>\n",
       "    </tr>\n",
       "    <tr>\n",
       "      <th>2</th>\n",
       "      <td>519.908</td>\n",
       "      <td>163.482</td>\n",
       "      <td>6.613</td>\n",
       "      <td>58.927</td>\n",
       "      <td>40.472</td>\n",
       "      <td>11.950</td>\n",
       "      <td>0</td>\n",
       "    </tr>\n",
       "    <tr>\n",
       "      <th>3</th>\n",
       "      <td>558.512</td>\n",
       "      <td>102.075</td>\n",
       "      <td>4.664</td>\n",
       "      <td>95.721</td>\n",
       "      <td>16.830</td>\n",
       "      <td>37.824</td>\n",
       "      <td>1</td>\n",
       "    </tr>\n",
       "    <tr>\n",
       "      <th>4</th>\n",
       "      <td>677.995</td>\n",
       "      <td>181.118</td>\n",
       "      <td>24.214</td>\n",
       "      <td>72.973</td>\n",
       "      <td>26.811</td>\n",
       "      <td>301.935</td>\n",
       "      <td>0</td>\n",
       "    </tr>\n",
       "  </tbody>\n",
       "</table>\n",
       "</div>"
      ],
      "text/plain": [
       "   avg_mouse_speed  avg_typing_speed  tab_switch_rate  mouse_click_rate  \\\n",
       "0          511.541             7.503            8.251            22.321   \n",
       "1           69.551           126.577            0.894            21.864   \n",
       "2          519.908           163.482            6.613            58.927   \n",
       "3          558.512           102.075            4.664            95.721   \n",
       "4          677.995           181.118           24.214            72.973   \n",
       "\n",
       "   keyboard_error_rate  active_window_duration  is_improper_user  \n",
       "0               36.824                 213.010                 0  \n",
       "1               25.268                  17.961                 0  \n",
       "2               40.472                  11.950                 0  \n",
       "3               16.830                  37.824                 1  \n",
       "4               26.811                 301.935                 0  "
      ]
     },
     "execution_count": 1,
     "metadata": {},
     "output_type": "execute_result"
    }
   ],
   "source": [
    "# Cell 1: basic imports and load data\n",
    "import numpy as np\n",
    "import pandas as pd\n",
    "from sklearn.model_selection import train_test_split\n",
    "from sklearn.ensemble import RandomForestClassifier, GradientBoostingClassifier, IsolationForest\n",
    "from sklearn.metrics import accuracy_score, roc_auc_score\n",
    "from sklearn.preprocessing import StandardScaler\n",
    "import matplotlib.pyplot as plt\n",
    "import joblib\n",
    "\n",
    "np.random.seed(42)\n",
    "DATA_PATH = '/content/user_behavior_dataset.csv'\n",
    "df = pd.read_csv(DATA_PATH)\n",
    "print('Loaded dataset with shape:', df.shape)\n",
    "\n",
    "df.head()\n"
   ]
  },
  {
   "cell_type": "code",
   "execution_count": 2,
   "id": "f97050df",
   "metadata": {
    "colab": {
     "base_uri": "https://localhost:8080/"
    },
    "id": "f97050df",
    "outputId": "8cbddfb7-15b8-45a1-d19b-874ece359384"
   },
   "outputs": [
    {
     "name": "stdout",
     "output_type": "stream",
     "text": [
      "Train/test sizes: (8000, 6) (2000, 6)\n"
     ]
    }
   ],
   "source": [
    "# Cell 2: train/test split and scaling\n",
    "features = ['avg_mouse_speed','avg_typing_speed','tab_switch_rate','mouse_click_rate','keyboard_error_rate','active_window_duration']\n",
    "X = df[features]\n",
    "y = df['is_improper_user']\n",
    "X_train, X_test, y_train, y_test = train_test_split(X, y, test_size=0.2, stratify=y, random_state=42)\n",
    "scaler = StandardScaler()\n",
    "X_train_s = scaler.fit_transform(X_train)\n",
    "X_test_s = scaler.transform(X_test)\n",
    "print('Train/test sizes:', X_train_s.shape, X_test_s.shape)\n"
   ]
  },
  {
   "cell_type": "code",
   "execution_count": 3,
   "id": "165f7a49",
   "metadata": {
    "colab": {
     "base_uri": "https://localhost:8080/"
    },
    "id": "165f7a49",
    "outputId": "f3e45f46-eae3-46d9-bbf3-472e536acd9f"
   },
   "outputs": [
    {
     "name": "stdout",
     "output_type": "stream",
     "text": [
      "RF accuracy: 0.846\n",
      "RF ROC AUC: 0.5101758466120169\n"
     ]
    },
    {
     "data": {
      "text/plain": [
       "['models/rf_model.joblib']"
      ]
     },
     "execution_count": 3,
     "metadata": {},
     "output_type": "execute_result"
    }
   ],
   "source": [
    "# Cell 3: RandomForest baseline\n",
    "import os\n",
    "rf = RandomForestClassifier(n_estimators=200, max_depth=15, random_state=42, n_jobs=-1)\n",
    "rf.fit(X_train_s, y_train)\n",
    "rf_pred = rf.predict(X_test_s)\n",
    "rf_proba = rf.predict_proba(X_test_s)[:,1]\n",
    "print('RF accuracy:', accuracy_score(y_test, rf_pred))\n",
    "print('RF ROC AUC:', roc_auc_score(y_test, rf_proba))\n",
    "os.makedirs(\"models\", exist_ok=True)\n",
    "joblib.dump(rf, \"models/rf_model.joblib\")\n"
   ]
  },
  {
   "cell_type": "code",
   "execution_count": 4,
   "id": "78a6e1ea",
   "metadata": {
    "colab": {
     "base_uri": "https://localhost:8080/"
    },
    "id": "78a6e1ea",
    "outputId": "ef7da260-6d3a-4d30-b374-e617e8825bbc"
   },
   "outputs": [
    {
     "name": "stdout",
     "output_type": "stream",
     "text": [
      "GradientBoosting (fallback) accuracy: 0.844\n",
      "GradientBoosting (fallback) ROC AUC: 0.4849511451905069\n"
     ]
    }
   ],
   "source": [
    "# Cell 4: XGBoost (try import, fallback to GradientBoosting)\n",
    "import os\n",
    "os.makedirs(\"models\", exist_ok=True)\n",
    "\n",
    "try:\n",
    "    import xgboost as xgb\n",
    "    xgb_clf = xgb.XGBClassifier(\n",
    "        use_label_encoder=False,\n",
    "        eval_metric='logloss',\n",
    "        random_state=42,\n",
    "        n_jobs=-1\n",
    "    )\n",
    "    xgb_clf.fit(X_train_s, y_train)\n",
    "    xgb_pred = xgb_clf.predict(X_test_s)\n",
    "    xgb_proba = xgb_clf.predict_proba(X_test_s)[:,1]\n",
    "    print('XGBoost accuracy:', accuracy_score(y_test, xgb_pred))\n",
    "    print('XGBoost ROC AUC:', roc_auc_score(y_test, xgb_proba))\n",
    "    joblib.dump(xgb_clf, \"models/xgb_model.joblib\")\n",
    "\n",
    "except Exception as e:\n",
    "    from sklearn.ensemble import GradientBoostingClassifier\n",
    "    xgb_clf = GradientBoostingClassifier(random_state=42)\n",
    "    xgb_clf.fit(X_train_s, y_train)\n",
    "    xgb_pred = xgb_clf.predict(X_test_s)\n",
    "    xgb_proba = xgb_clf.predict_proba(X_test_s)[:,1]\n",
    "    print('GradientBoosting (fallback) accuracy:', accuracy_score(y_test, xgb_pred))\n",
    "    print('GradientBoosting (fallback) ROC AUC:', roc_auc_score(y_test, xgb_proba))\n",
    "    joblib.dump(xgb_clf, \"models/xgb_model.joblib\")\n"
   ]
  },
  {
   "cell_type": "code",
   "execution_count": 5,
   "id": "bc023c29",
   "metadata": {
    "colab": {
     "base_uri": "https://localhost:8080/"
    },
    "id": "bc023c29",
    "outputId": "9b12a946-45f9-419c-d6c6-d2c1ad07dd0f"
   },
   "outputs": [
    {
     "name": "stdout",
     "output_type": "stream",
     "text": [
      "IsolationForest accuracy: 0.738\n",
      "IsolationForest ROC AUC: 0.5309976666359645\n"
     ]
    },
    {
     "data": {
      "text/plain": [
       "['models/iso_model.joblib']"
      ]
     },
     "execution_count": 5,
     "metadata": {},
     "output_type": "execute_result"
    }
   ],
   "source": [
    "# Cell 5: IsolationForest (unsupervised anomaly detection)\n",
    "import os\n",
    "os.makedirs(\"models\", exist_ok=True)\n",
    "\n",
    "proper_mask = (y_train==0)\n",
    "iso = IsolationForest(contamination=0.15, random_state=42)\n",
    "iso.fit(X_train_s[proper_mask])\n",
    "\n",
    "iso_scores = -iso.decision_function(X_test_s)\n",
    "threshold = np.percentile(-iso.decision_function(X_train_s[proper_mask]), 85)\n",
    "iso_pred = (iso_scores >= threshold).astype(int)\n",
    "\n",
    "print('IsolationForest accuracy:', accuracy_score(y_test, iso_pred))\n",
    "print('IsolationForest ROC AUC:', roc_auc_score(y_test, iso_scores))\n",
    "\n",
    "# save safely\n",
    "joblib.dump(iso, \"models/iso_model.joblib\")\n",
    "\n"
   ]
  },
  {
   "cell_type": "markdown",
   "id": "7fca49fb",
   "metadata": {
    "id": "7fca49fb"
   },
   "source": [
    "### Autoencoder (tabular) and Sequence models (LSTM / Transformer)\n",
    "The following cells require TensorFlow. Run in a TF-enabled environment (Colab / Kaggle) to execute these sections."
   ]
  },
  {
   "cell_type": "code",
   "execution_count": 6,
   "id": "32dd4fce",
   "metadata": {
    "colab": {
     "base_uri": "https://localhost:8080/"
    },
    "id": "32dd4fce",
    "outputId": "0d5537e0-eb73-4576-fa99-3c0cf4f7d754"
   },
   "outputs": [
    {
     "name": "stdout",
     "output_type": "stream",
     "text": [
      "Epoch 1/30\n",
      "\u001b[1m48/48\u001b[0m \u001b[32m━━━━━━━━━━━━━━━━━━━━\u001b[0m\u001b[37m\u001b[0m \u001b[1m4s\u001b[0m 15ms/step - loss: 1.0567 - val_loss: 0.9285\n",
      "Epoch 2/30\n",
      "\u001b[1m48/48\u001b[0m \u001b[32m━━━━━━━━━━━━━━━━━━━━\u001b[0m\u001b[37m\u001b[0m \u001b[1m1s\u001b[0m 8ms/step - loss: 0.8560 - val_loss: 0.7746\n",
      "Epoch 3/30\n",
      "\u001b[1m48/48\u001b[0m \u001b[32m━━━━━━━━━━━━━━━━━━━━\u001b[0m\u001b[37m\u001b[0m \u001b[1m1s\u001b[0m 8ms/step - loss: 0.7055 - val_loss: 0.6281\n",
      "Epoch 4/30\n",
      "\u001b[1m48/48\u001b[0m \u001b[32m━━━━━━━━━━━━━━━━━━━━\u001b[0m\u001b[37m\u001b[0m \u001b[1m1s\u001b[0m 8ms/step - loss: 0.5418 - val_loss: 0.4522\n",
      "Epoch 5/30\n",
      "\u001b[1m48/48\u001b[0m \u001b[32m━━━━━━━━━━━━━━━━━━━━\u001b[0m\u001b[37m\u001b[0m \u001b[1m1s\u001b[0m 7ms/step - loss: 0.3814 - val_loss: 0.3135\n",
      "Epoch 6/30\n",
      "\u001b[1m48/48\u001b[0m \u001b[32m━━━━━━━━━━━━━━━━━━━━\u001b[0m\u001b[37m\u001b[0m \u001b[1m1s\u001b[0m 8ms/step - loss: 0.2407 - val_loss: 0.1726\n",
      "Epoch 7/30\n",
      "\u001b[1m48/48\u001b[0m \u001b[32m━━━━━━━━━━━━━━━━━━━━\u001b[0m\u001b[37m\u001b[0m \u001b[1m1s\u001b[0m 8ms/step - loss: 0.1308 - val_loss: 0.1011\n",
      "Epoch 8/30\n",
      "\u001b[1m48/48\u001b[0m \u001b[32m━━━━━━━━━━━━━━━━━━━━\u001b[0m\u001b[37m\u001b[0m \u001b[1m1s\u001b[0m 7ms/step - loss: 0.0853 - val_loss: 0.0733\n",
      "Epoch 9/30\n",
      "\u001b[1m48/48\u001b[0m \u001b[32m━━━━━━━━━━━━━━━━━━━━\u001b[0m\u001b[37m\u001b[0m \u001b[1m1s\u001b[0m 8ms/step - loss: 0.0645 - val_loss: 0.0581\n",
      "Epoch 10/30\n",
      "\u001b[1m48/48\u001b[0m \u001b[32m━━━━━━━━━━━━━━━━━━━━\u001b[0m\u001b[37m\u001b[0m \u001b[1m1s\u001b[0m 7ms/step - loss: 0.0512 - val_loss: 0.0465\n",
      "Epoch 11/30\n",
      "\u001b[1m48/48\u001b[0m \u001b[32m━━━━━━━━━━━━━━━━━━━━\u001b[0m\u001b[37m\u001b[0m \u001b[1m1s\u001b[0m 8ms/step - loss: 0.0419 - val_loss: 0.0386\n",
      "Epoch 12/30\n",
      "\u001b[1m48/48\u001b[0m \u001b[32m━━━━━━━━━━━━━━━━━━━━\u001b[0m\u001b[37m\u001b[0m \u001b[1m1s\u001b[0m 8ms/step - loss: 0.0347 - val_loss: 0.0325\n",
      "Epoch 13/30\n",
      "\u001b[1m48/48\u001b[0m \u001b[32m━━━━━━━━━━━━━━━━━━━━\u001b[0m\u001b[37m\u001b[0m \u001b[1m1s\u001b[0m 8ms/step - loss: 0.0295 - val_loss: 0.0273\n",
      "Epoch 14/30\n",
      "\u001b[1m48/48\u001b[0m \u001b[32m━━━━━━━━━━━━━━━━━━━━\u001b[0m\u001b[37m\u001b[0m \u001b[1m1s\u001b[0m 8ms/step - loss: 0.0253 - val_loss: 0.0238\n",
      "Epoch 15/30\n",
      "\u001b[1m48/48\u001b[0m \u001b[32m━━━━━━━━━━━━━━━━━━━━\u001b[0m\u001b[37m\u001b[0m \u001b[1m1s\u001b[0m 8ms/step - loss: 0.0220 - val_loss: 0.0208\n",
      "Epoch 16/30\n",
      "\u001b[1m48/48\u001b[0m \u001b[32m━━━━━━━━━━━━━━━━━━━━\u001b[0m\u001b[37m\u001b[0m \u001b[1m1s\u001b[0m 8ms/step - loss: 0.0195 - val_loss: 0.0187\n",
      "Epoch 17/30\n",
      "\u001b[1m48/48\u001b[0m \u001b[32m━━━━━━━━━━━━━━━━━━━━\u001b[0m\u001b[37m\u001b[0m \u001b[1m1s\u001b[0m 8ms/step - loss: 0.0174 - val_loss: 0.0167\n",
      "Epoch 18/30\n",
      "\u001b[1m48/48\u001b[0m \u001b[32m━━━━━━━━━━━━━━━━━━━━\u001b[0m\u001b[37m\u001b[0m \u001b[1m1s\u001b[0m 7ms/step - loss: 0.0156 - val_loss: 0.0150\n",
      "Epoch 19/30\n",
      "\u001b[1m48/48\u001b[0m \u001b[32m━━━━━━━━━━━━━━━━━━━━\u001b[0m\u001b[37m\u001b[0m \u001b[1m0s\u001b[0m 8ms/step - loss: 0.0142 - val_loss: 0.0138\n",
      "Epoch 20/30\n",
      "\u001b[1m48/48\u001b[0m \u001b[32m━━━━━━━━━━━━━━━━━━━━\u001b[0m\u001b[37m\u001b[0m \u001b[1m1s\u001b[0m 8ms/step - loss: 0.0130 - val_loss: 0.0127\n",
      "Epoch 21/30\n",
      "\u001b[1m48/48\u001b[0m \u001b[32m━━━━━━━━━━━━━━━━━━━━\u001b[0m\u001b[37m\u001b[0m \u001b[1m1s\u001b[0m 7ms/step - loss: 0.0120 - val_loss: 0.0117\n",
      "Epoch 22/30\n",
      "\u001b[1m48/48\u001b[0m \u001b[32m━━━━━━━━━━━━━━━━━━━━\u001b[0m\u001b[37m\u001b[0m \u001b[1m1s\u001b[0m 8ms/step - loss: 0.0110 - val_loss: 0.0108\n",
      "Epoch 23/30\n",
      "\u001b[1m48/48\u001b[0m \u001b[32m━━━━━━━━━━━━━━━━━━━━\u001b[0m\u001b[37m\u001b[0m \u001b[1m1s\u001b[0m 8ms/step - loss: 0.0102 - val_loss: 0.0100\n",
      "Epoch 24/30\n",
      "\u001b[1m48/48\u001b[0m \u001b[32m━━━━━━━━━━━━━━━━━━━━\u001b[0m\u001b[37m\u001b[0m \u001b[1m1s\u001b[0m 8ms/step - loss: 0.0096 - val_loss: 0.0094\n",
      "Epoch 25/30\n",
      "\u001b[1m48/48\u001b[0m \u001b[32m━━━━━━━━━━━━━━━━━━━━\u001b[0m\u001b[37m\u001b[0m \u001b[1m1s\u001b[0m 8ms/step - loss: 0.0088 - val_loss: 0.0087\n",
      "Epoch 26/30\n",
      "\u001b[1m48/48\u001b[0m \u001b[32m━━━━━━━━━━━━━━━━━━━━\u001b[0m\u001b[37m\u001b[0m \u001b[1m1s\u001b[0m 8ms/step - loss: 0.0081 - val_loss: 0.0081\n",
      "Epoch 27/30\n",
      "\u001b[1m48/48\u001b[0m \u001b[32m━━━━━━━━━━━━━━━━━━━━\u001b[0m\u001b[37m\u001b[0m \u001b[1m1s\u001b[0m 8ms/step - loss: 0.0076 - val_loss: 0.0076\n",
      "Epoch 28/30\n",
      "\u001b[1m48/48\u001b[0m \u001b[32m━━━━━━━━━━━━━━━━━━━━\u001b[0m\u001b[37m\u001b[0m \u001b[1m1s\u001b[0m 7ms/step - loss: 0.0070 - val_loss: 0.0072\n",
      "Epoch 29/30\n",
      "\u001b[1m48/48\u001b[0m \u001b[32m━━━━━━━━━━━━━━━━━━━━\u001b[0m\u001b[37m\u001b[0m \u001b[1m1s\u001b[0m 8ms/step - loss: 0.0066 - val_loss: 0.0065\n",
      "Epoch 30/30\n",
      "\u001b[1m48/48\u001b[0m \u001b[32m━━━━━━━━━━━━━━━━━━━━\u001b[0m\u001b[37m\u001b[0m \u001b[1m1s\u001b[0m 8ms/step - loss: 0.0061 - val_loss: 0.0061\n",
      "\u001b[1m63/63\u001b[0m \u001b[32m━━━━━━━━━━━━━━━━━━━━\u001b[0m\u001b[37m\u001b[0m \u001b[1m0s\u001b[0m 5ms/step\n",
      "\u001b[1m212/212\u001b[0m \u001b[32m━━━━━━━━━━━━━━━━━━━━\u001b[0m\u001b[37m\u001b[0m \u001b[1m1s\u001b[0m 2ms/step\n",
      "Autoencoder accuracy: 0.7775\n",
      "Autoencoder ROC AUC: 0.4954464861379755\n"
     ]
    }
   ],
   "source": [
    "# Cell 6: Tabular Autoencoder (requires TensorFlow)\n",
    "try:\n",
    "    import os\n",
    "    import tensorflow as tf\n",
    "    from tensorflow import keras\n",
    "    from tensorflow.keras import layers\n",
    "\n",
    "    os.makedirs(\"models\", exist_ok=True)\n",
    "\n",
    "    input_dim = X_train_s.shape[1]\n",
    "    ae_encoder = keras.Sequential([\n",
    "        layers.Input(shape=(input_dim,)),\n",
    "        layers.Dense(16, activation='relu'),\n",
    "        layers.Dense(8, activation='relu'),\n",
    "    ])\n",
    "    ae_decoder = keras.Sequential([\n",
    "        layers.Input(shape=(8,)),\n",
    "        layers.Dense(16, activation='relu'),\n",
    "        layers.Dense(input_dim, activation='linear'),\n",
    "    ])\n",
    "    ae_input = layers.Input(shape=(input_dim,))\n",
    "    encoded = ae_encoder(ae_input)\n",
    "    decoded = ae_decoder(encoded)\n",
    "    autoencoder = keras.Model(ae_input, decoded)\n",
    "    autoencoder.compile(optimizer='adam', loss='mse')\n",
    "\n",
    "    autoencoder.fit(\n",
    "        X_train_s[proper_mask], X_train_s[proper_mask],\n",
    "        epochs=30, batch_size=128, validation_split=0.1, verbose=1\n",
    "    )\n",
    "\n",
    "    # Reconstruction error\n",
    "    recon = autoencoder.predict(X_test_s)\n",
    "    mse = np.mean(np.square(recon - X_test_s), axis=1)\n",
    "\n",
    "    train_recon = autoencoder.predict(X_train_s[proper_mask])\n",
    "    train_mse = np.mean(np.square(train_recon - X_train_s[proper_mask]), axis=1)\n",
    "    ae_thresh = np.percentile(train_mse, 90)\n",
    "\n",
    "    ae_pred = (mse >= ae_thresh).astype(int)\n",
    "    print('Autoencoder accuracy:', accuracy_score(y_test, ae_pred))\n",
    "    print('Autoencoder ROC AUC:', roc_auc_score(y_test, mse))\n",
    "\n",
    "    # save safely\n",
    "    autoencoder.save(\"models/ae_model.keras\")\n",
    "\n",
    "except Exception as e:\n",
    "    print('TensorFlow not available in this runtime. Install TensorFlow to run Autoencoder and sequence models.')\n"
   ]
  },
  {
   "cell_type": "code",
   "execution_count": 7,
   "id": "a5ecd36b",
   "metadata": {
    "colab": {
     "base_uri": "https://localhost:8080/"
    },
    "id": "a5ecd36b",
    "outputId": "64bae341-2e93-49a8-8dee-4f2583122f96"
   },
   "outputs": [
    {
     "name": "stdout",
     "output_type": "stream",
     "text": [
      "Synthesized sequences shapes: (8000, 50, 6) (2000, 50, 6)\n"
     ]
    }
   ],
   "source": [
    "# Cell 7: Synthesize sequences from aggregates (demo only)\n",
    "# Replace with real per-event logs when available\n",
    "\n",
    "import os\n",
    "os.makedirs(\"models\", exist_ok=True)\n",
    "\n",
    "seq_len = 50\n",
    "n_features_seq = len(features)\n",
    "\n",
    "def make_sequences_from_aggregates(df, seq_len=seq_len, noise_scale=0.05):\n",
    "    seqs = np.zeros((len(df), seq_len, n_features_seq))\n",
    "    for i, row in df[features].iterrows():\n",
    "        base = row.values.astype(float)  # shape (n_features,)\n",
    "        timesteps = np.arange(seq_len)\n",
    "\n",
    "        # Expand to (50, 1) × (1, 6) → (50, 6)\n",
    "        drift = (np.sin(timesteps[:, None] / 10) * base[None, :] * 0.02)\n",
    "\n",
    "        # Noise also shaped (50, 6)\n",
    "        noise = np.random.normal(scale=noise_scale * base, size=(seq_len, n_features_seq))\n",
    "\n",
    "        # Final sequence (50,6)\n",
    "        seq = base + drift + noise\n",
    "        seqs[i] = seq\n",
    "    return seqs\n",
    "\n",
    "\n",
    "X_seq = make_sequences_from_aggregates(X, seq_len=seq_len, noise_scale=0.03)\n",
    "\n",
    "from sklearn.model_selection import train_test_split\n",
    "X_seq_train, X_seq_test, y_seq_train, y_seq_test = train_test_split(\n",
    "    X_seq, y, test_size=0.2, stratify=y, random_state=42\n",
    ")\n",
    "\n",
    "# Scale across timesteps\n",
    "flat_train = X_seq_train.reshape(-1, n_features_seq)\n",
    "from sklearn.preprocessing import StandardScaler\n",
    "scaler_seq = StandardScaler().fit(flat_train)\n",
    "\n",
    "X_seq_train_s = scaler_seq.transform(X_seq_train.reshape(-1, n_features_seq)).reshape(X_seq_train.shape)\n",
    "X_seq_test_s = scaler_seq.transform(X_seq_test.reshape(-1, n_features_seq)).reshape(X_seq_test.shape)\n",
    "\n",
    "print('Synthesized sequences shapes:', X_seq_train_s.shape, X_seq_test_s.shape)\n"
   ]
  },
  {
   "cell_type": "code",
   "execution_count": 8,
   "id": "01011407",
   "metadata": {
    "colab": {
     "base_uri": "https://localhost:8080/"
    },
    "id": "01011407",
    "outputId": "c76aed79-ee8a-4f49-84dc-13c05f0f3055"
   },
   "outputs": [
    {
     "name": "stdout",
     "output_type": "stream",
     "text": [
      "Epoch 1/15\n",
      "\u001b[1m57/57\u001b[0m \u001b[32m━━━━━━━━━━━━━━━━━━━━\u001b[0m\u001b[37m\u001b[0m \u001b[1m16s\u001b[0m 137ms/step - accuracy: 0.8403 - loss: 0.4781 - val_accuracy: 0.8475 - val_loss: 0.4375\n",
      "Epoch 2/15\n",
      "\u001b[1m57/57\u001b[0m \u001b[32m━━━━━━━━━━━━━━━━━━━━\u001b[0m\u001b[37m\u001b[0m \u001b[1m9s\u001b[0m 112ms/step - accuracy: 0.8461 - loss: 0.4322 - val_accuracy: 0.8475 - val_loss: 0.4346\n",
      "Epoch 3/15\n",
      "\u001b[1m57/57\u001b[0m \u001b[32m━━━━━━━━━━━━━━━━━━━━\u001b[0m\u001b[37m\u001b[0m \u001b[1m6s\u001b[0m 111ms/step - accuracy: 0.8461 - loss: 0.4314 - val_accuracy: 0.8475 - val_loss: 0.4366\n",
      "Epoch 4/15\n",
      "\u001b[1m57/57\u001b[0m \u001b[32m━━━━━━━━━━━━━━━━━━━━\u001b[0m\u001b[37m\u001b[0m \u001b[1m10s\u001b[0m 110ms/step - accuracy: 0.8461 - loss: 0.4301 - val_accuracy: 0.8475 - val_loss: 0.4326\n",
      "Epoch 5/15\n",
      "\u001b[1m57/57\u001b[0m \u001b[32m━━━━━━━━━━━━━━━━━━━━\u001b[0m\u001b[37m\u001b[0m \u001b[1m10s\u001b[0m 109ms/step - accuracy: 0.8461 - loss: 0.4299 - val_accuracy: 0.8475 - val_loss: 0.4318\n",
      "Epoch 6/15\n",
      "\u001b[1m57/57\u001b[0m \u001b[32m━━━━━━━━━━━━━━━━━━━━\u001b[0m\u001b[37m\u001b[0m \u001b[1m6s\u001b[0m 106ms/step - accuracy: 0.8461 - loss: 0.4317 - val_accuracy: 0.8475 - val_loss: 0.4362\n",
      "Epoch 7/15\n",
      "\u001b[1m57/57\u001b[0m \u001b[32m━━━━━━━━━━━━━━━━━━━━\u001b[0m\u001b[37m\u001b[0m \u001b[1m10s\u001b[0m 109ms/step - accuracy: 0.8461 - loss: 0.4306 - val_accuracy: 0.8475 - val_loss: 0.4334\n",
      "Epoch 8/15\n",
      "\u001b[1m57/57\u001b[0m \u001b[32m━━━━━━━━━━━━━━━━━━━━\u001b[0m\u001b[37m\u001b[0m \u001b[1m11s\u001b[0m 113ms/step - accuracy: 0.8461 - loss: 0.4293 - val_accuracy: 0.8475 - val_loss: 0.4323\n",
      "\u001b[1m63/63\u001b[0m \u001b[32m━━━━━━━━━━━━━━━━━━━━\u001b[0m\u001b[37m\u001b[0m \u001b[1m3s\u001b[0m 35ms/step\n",
      "LSTM ROC AUC: 0.5163968714500629\n",
      "LSTM Accuracy: 0.846\n"
     ]
    }
   ],
   "source": [
    "# Cell 8: LSTM classifier (requires TensorFlow)\n",
    "try:\n",
    "    from tensorflow import keras\n",
    "    from tensorflow.keras import layers\n",
    "\n",
    "    # Define LSTM model\n",
    "    lstm_input = layers.Input(shape=(seq_len, n_features_seq))\n",
    "    x = layers.Masking()(lstm_input)   # handles padded/constant inputs\n",
    "    x = layers.LSTM(64, return_sequences=False, dropout=0.2, recurrent_dropout=0.2)(x)\n",
    "    x = layers.Dense(32, activation='relu')(x)\n",
    "    lstm_output = layers.Dense(1, activation='sigmoid')(x)\n",
    "\n",
    "    lstm_model = keras.Model(lstm_input, lstm_output)\n",
    "    lstm_model.compile(optimizer='adam',\n",
    "                       loss='binary_crossentropy',\n",
    "                       metrics=['accuracy'])\n",
    "\n",
    "    # Train\n",
    "    history = lstm_model.fit(\n",
    "        X_seq_train_s, y_seq_train,\n",
    "        epochs=15,\n",
    "        batch_size=128,\n",
    "        validation_split=0.1,\n",
    "        callbacks=[keras.callbacks.EarlyStopping(patience=3, restore_best_weights=True)]\n",
    "    )\n",
    "\n",
    "    # Predict probabilities\n",
    "    lstm_proba = lstm_model.predict(X_seq_test_s).ravel()\n",
    "\n",
    "    # Evaluate\n",
    "    print('LSTM ROC AUC:', roc_auc_score(y_seq_test, lstm_proba))\n",
    "    print('LSTM Accuracy:', accuracy_score(y_seq_test, (lstm_proba >= 0.5).astype(int)))\n",
    "\n",
    "    # Save model\n",
    "    lstm_model.save('models/lstm_model.keras')\n",
    "\n",
    "except Exception as e:\n",
    "    print('TensorFlow not available; run this cell where TF is installed to train LSTM.')\n",
    "    print('Error:', str(e))\n"
   ]
  },
  {
   "cell_type": "code",
   "execution_count": 9,
   "id": "d38e9a9f",
   "metadata": {
    "colab": {
     "base_uri": "https://localhost:8080/"
    },
    "id": "d38e9a9f",
    "outputId": "3e3a5b16-663d-44ba-a3c3-58aae2c4ff4b"
   },
   "outputs": [
    {
     "name": "stdout",
     "output_type": "stream",
     "text": [
      "Epoch 1/12\n",
      "\u001b[1m57/57\u001b[0m \u001b[32m━━━━━━━━━━━━━━━━━━━━\u001b[0m\u001b[37m\u001b[0m \u001b[1m19s\u001b[0m 183ms/step - accuracy: 0.8450 - loss: 0.4448 - val_accuracy: 0.8475 - val_loss: 0.4364\n",
      "Epoch 2/12\n",
      "\u001b[1m57/57\u001b[0m \u001b[32m━━━━━━━━━━━━━━━━━━━━\u001b[0m\u001b[37m\u001b[0m \u001b[1m20s\u001b[0m 167ms/step - accuracy: 0.8461 - loss: 0.4349 - val_accuracy: 0.8475 - val_loss: 0.4423\n",
      "Epoch 3/12\n",
      "\u001b[1m57/57\u001b[0m \u001b[32m━━━━━━━━━━━━━━━━━━━━\u001b[0m\u001b[37m\u001b[0m \u001b[1m10s\u001b[0m 169ms/step - accuracy: 0.8461 - loss: 0.4314 - val_accuracy: 0.8475 - val_loss: 0.4398\n",
      "Epoch 4/12\n",
      "\u001b[1m57/57\u001b[0m \u001b[32m━━━━━━━━━━━━━━━━━━━━\u001b[0m\u001b[37m\u001b[0m \u001b[1m10s\u001b[0m 170ms/step - accuracy: 0.8461 - loss: 0.4289 - val_accuracy: 0.8475 - val_loss: 0.4369\n",
      "Epoch 5/12\n",
      "\u001b[1m57/57\u001b[0m \u001b[32m━━━━━━━━━━━━━━━━━━━━\u001b[0m\u001b[37m\u001b[0m \u001b[1m10s\u001b[0m 169ms/step - accuracy: 0.8461 - loss: 0.4284 - val_accuracy: 0.8475 - val_loss: 0.4399\n",
      "Epoch 6/12\n",
      "\u001b[1m57/57\u001b[0m \u001b[32m━━━━━━━━━━━━━━━━━━━━\u001b[0m\u001b[37m\u001b[0m \u001b[1m10s\u001b[0m 164ms/step - accuracy: 0.8461 - loss: 0.4280 - val_accuracy: 0.8475 - val_loss: 0.4400\n",
      "Epoch 7/12\n",
      "\u001b[1m57/57\u001b[0m \u001b[32m━━━━━━━━━━━━━━━━━━━━\u001b[0m\u001b[37m\u001b[0m \u001b[1m11s\u001b[0m 169ms/step - accuracy: 0.8461 - loss: 0.4248 - val_accuracy: 0.8475 - val_loss: 0.4437\n",
      "Epoch 8/12\n",
      "\u001b[1m57/57\u001b[0m \u001b[32m━━━━━━━━━━━━━━━━━━━━\u001b[0m\u001b[37m\u001b[0m \u001b[1m10s\u001b[0m 165ms/step - accuracy: 0.8461 - loss: 0.4255 - val_accuracy: 0.8475 - val_loss: 0.4396\n",
      "Epoch 9/12\n",
      "\u001b[1m57/57\u001b[0m \u001b[32m━━━━━━━━━━━━━━━━━━━━\u001b[0m\u001b[37m\u001b[0m \u001b[1m10s\u001b[0m 169ms/step - accuracy: 0.8461 - loss: 0.4248 - val_accuracy: 0.8475 - val_loss: 0.4368\n",
      "Epoch 10/12\n",
      "\u001b[1m57/57\u001b[0m \u001b[32m━━━━━━━━━━━━━━━━━━━━\u001b[0m\u001b[37m\u001b[0m \u001b[1m9s\u001b[0m 158ms/step - accuracy: 0.8461 - loss: 0.4244 - val_accuracy: 0.8475 - val_loss: 0.4380\n",
      "Epoch 11/12\n",
      "\u001b[1m57/57\u001b[0m \u001b[32m━━━━━━━━━━━━━━━━━━━━\u001b[0m\u001b[37m\u001b[0m \u001b[1m11s\u001b[0m 168ms/step - accuracy: 0.8461 - loss: 0.4227 - val_accuracy: 0.8475 - val_loss: 0.4400\n",
      "Epoch 12/12\n",
      "\u001b[1m57/57\u001b[0m \u001b[32m━━━━━━━━━━━━━━━━━━━━\u001b[0m\u001b[37m\u001b[0m \u001b[1m10s\u001b[0m 169ms/step - accuracy: 0.8461 - loss: 0.4225 - val_accuracy: 0.8475 - val_loss: 0.4365\n",
      "\u001b[1m63/63\u001b[0m \u001b[32m━━━━━━━━━━━━━━━━━━━━\u001b[0m\u001b[37m\u001b[0m \u001b[1m2s\u001b[0m 27ms/step\n",
      "Transformer ROC AUC: 0.5260124036719782\n"
     ]
    }
   ],
   "source": [
    "# Cell 9: Transformer classifier (requires TensorFlow)\n",
    "try:\n",
    "    from tensorflow import keras\n",
    "    from tensorflow.keras import layers\n",
    "    def build_transformer_classifier(seq_len, n_features, d_model=64, num_heads=4, ff_dim=128):\n",
    "        inputs = layers.Input(shape=(seq_len, n_features))\n",
    "        x = layers.Dense(d_model)(inputs)\n",
    "        positions = tf.range(start=0, limit=seq_len, delta=1)\n",
    "        pos_embed = layers.Embedding(input_dim=seq_len, output_dim=d_model)(positions)\n",
    "        x = x + pos_embed\n",
    "        attn_out = layers.MultiHeadAttention(num_heads=num_heads, key_dim=d_model)(x, x)\n",
    "        x = layers.LayerNormalization()(x + attn_out)\n",
    "        ff = layers.Dense(ff_dim, activation='relu')(x)\n",
    "        ff = layers.Dense(d_model)(ff)\n",
    "        x = layers.LayerNormalization()(x + ff)\n",
    "        x = layers.GlobalAveragePooling1D()(x)\n",
    "        x = layers.Dense(64, activation='relu')(x)\n",
    "        outputs = layers.Dense(1, activation='sigmoid')(x)\n",
    "        model = keras.Model(inputs=inputs, outputs=outputs)\n",
    "        return model\n",
    "    trans_model = build_transformer_classifier(seq_len, n_features_seq, d_model=64, num_heads=4, ff_dim=128)\n",
    "    trans_model.compile(optimizer='adam', loss='binary_crossentropy', metrics=['accuracy'])\n",
    "    trans_model.fit(X_seq_train_s, y_seq_train, epochs=12, batch_size=128, validation_split=0.1)\n",
    "    trans_proba = trans_model.predict(X_seq_test_s).ravel()\n",
    "    print('Transformer ROC AUC:', roc_auc_score(y_seq_test, trans_proba))\n",
    "    trans_model.save('models/transformer_model.keras')\n",
    "except Exception as e:\n",
    "    print('TensorFlow not available; run this cell where TF is installed to train Transformer.')\n"
   ]
  },
  {
   "cell_type": "code",
   "execution_count": 10,
   "id": "a28dc7c6",
   "metadata": {
    "colab": {
     "base_uri": "https://localhost:8080/",
     "height": 1000
    },
    "id": "a28dc7c6",
    "outputId": "0cef384e-4e62-45d3-aa63-13631df2c618"
   },
   "outputs": [
    {
     "name": "stderr",
     "output_type": "stream",
     "text": [
      "C:\\Users\\priya\\AppData\\Local\\Programs\\Python\\Python313\\Lib\\site-packages\\sklearn\\utils\\validation.py:2742: UserWarning: X has feature names, but RandomForestClassifier was fitted without feature names\n",
      "  warnings.warn(\n",
      "C:\\Users\\priya\\AppData\\Local\\Programs\\Python\\Python313\\Lib\\site-packages\\sklearn\\utils\\validation.py:2742: UserWarning: X has feature names, but RandomForestClassifier was fitted without feature names\n",
      "  warnings.warn(\n",
      "C:\\Users\\priya\\AppData\\Local\\Programs\\Python\\Python313\\Lib\\site-packages\\sklearn\\utils\\validation.py:2742: UserWarning: X has feature names, but GradientBoostingClassifier was fitted without feature names\n",
      "  warnings.warn(\n",
      "C:\\Users\\priya\\AppData\\Local\\Programs\\Python\\Python313\\Lib\\site-packages\\sklearn\\utils\\validation.py:2742: UserWarning: X has feature names, but GradientBoostingClassifier was fitted without feature names\n",
      "  warnings.warn(\n",
      "C:\\Users\\priya\\AppData\\Local\\Programs\\Python\\Python313\\Lib\\site-packages\\sklearn\\utils\\validation.py:2742: UserWarning: X has feature names, but IsolationForest was fitted without feature names\n",
      "  warnings.warn(\n"
     ]
    },
    {
     "name": "stdout",
     "output_type": "stream",
     "text": [
      "\u001b[1m63/63\u001b[0m \u001b[32m━━━━━━━━━━━━━━━━━━━━\u001b[0m\u001b[37m\u001b[0m \u001b[1m0s\u001b[0m 5ms/step\n",
      "\u001b[1m63/63\u001b[0m \u001b[32m━━━━━━━━━━━━━━━━━━━━\u001b[0m\u001b[37m\u001b[0m \u001b[1m3s\u001b[0m 31ms/step\n",
      "\u001b[1m63/63\u001b[0m \u001b[32m━━━━━━━━━━━━━━━━━━━━\u001b[0m\u001b[37m\u001b[0m \u001b[1m2s\u001b[0m 27ms/step\n",
      "             model  accuracy   roc_auc\n",
      "0     RandomForest    0.1920  0.488654\n",
      "1          XGBoost    0.1545  0.503415\n",
      "2  IsolationForest    0.1540  0.500000\n",
      "3      Autoencoder    0.8180  0.512665\n",
      "4             LSTM    0.8460  0.516397\n",
      "5      Transformer    0.8460  0.526012\n"
     ]
    },
    {
     "data": {
      "image/png": "[encoded data removed]",
      "text/plain": [
       "<Figure size 1000x400 with 1 Axes>"
      ]
     },
     "metadata": {},
     "output_type": "display_data"
    },
    {
     "data": {
      "image/png": "[encoded data removed]",
      "text/plain": [
       "<Figure size 1000x400 with 1 Axes>"
      ]
     },
     "metadata": {},
     "output_type": "display_data"
    }
   ],
   "source": [
    "# --- Final Cell: Evaluate saved models, compare & auto-pick best ---\n",
    "import pandas as pd\n",
    "import matplotlib.pyplot as plt\n",
    "import joblib\n",
    "import tensorflow as tf\n",
    "import numpy as np\n",
    "from sklearn.metrics import accuracy_score, roc_auc_score\n",
    "\n",
    "results = []\n",
    "\n",
    "# --- Random Forest ---\n",
    "rf_model = joblib.load(\"models/rf_model.joblib\")\n",
    "rf_preds = rf_model.predict(X_test)\n",
    "rf_proba = rf_model.predict_proba(X_test)[:,1]\n",
    "results.append({\"model\": \"RandomForest\",\n",
    "                \"accuracy\": accuracy_score(y_test, rf_preds),\n",
    "                \"roc_auc\": roc_auc_score(y_test, rf_proba)})\n",
    "\n",
    "# --- XGBoost ---\n",
    "xgb_model = joblib.load(\"models/xgb_model.joblib\")\n",
    "xgb_preds = xgb_model.predict(X_test)\n",
    "xgb_proba = xgb_model.predict_proba(X_test)[:,1]\n",
    "results.append({\"model\": \"XGBoost\",\n",
    "                \"accuracy\": accuracy_score(y_test, xgb_preds),\n",
    "                \"roc_auc\": roc_auc_score(y_test, xgb_proba)})\n",
    "\n",
    "# --- Isolation Forest ---\n",
    "iso_model = joblib.load(\"models/iso_model.joblib\")\n",
    "iso_preds = iso_model.predict(X_test)\n",
    "iso_preds = [1 if p == -1 else 0 for p in iso_preds]  # convert {-1,1} to {0,1}\n",
    "results.append({\"model\": \"IsolationForest\",\n",
    "                \"accuracy\": accuracy_score(y_test, iso_preds),\n",
    "                \"roc_auc\": roc_auc_score(y_test, iso_preds)})\n",
    "\n",
    "# --- Autoencoder ---\n",
    "ae_model = tf.keras.models.load_model(\"models/ae_model.keras\")\n",
    "recon = ae_model.predict(X_test_s)\n",
    "mse = np.mean(np.power(X_test_s - recon, 2), axis=1)\n",
    "ae_preds = (mse > np.percentile(mse, 95)).astype(int)\n",
    "results.append({\"model\": \"Autoencoder\",\n",
    "                \"accuracy\": accuracy_score(y_test, ae_preds),\n",
    "                \"roc_auc\": roc_auc_score(y_test, ae_preds)})\n",
    "\n",
    "# --- LSTM ---\n",
    "lstm_model = tf.keras.models.load_model(\"models/lstm_model.keras\")\n",
    "lstm_proba = lstm_model.predict(X_seq_test_s).ravel()\n",
    "lstm_preds = (lstm_proba > 0.5).astype(int)\n",
    "results.append({\"model\": \"LSTM\",\n",
    "                \"accuracy\": accuracy_score(y_seq_test, lstm_preds),\n",
    "                \"roc_auc\": roc_auc_score(y_seq_test, lstm_proba)})\n",
    "\n",
    "# --- Transformer ---\n",
    "trans_model = tf.keras.models.load_model(\"models/transformer_model.keras\")\n",
    "trans_proba = trans_model.predict(X_seq_test_s).ravel()\n",
    "trans_preds = (trans_proba > 0.5).astype(int)\n",
    "results.append({\"model\": \"Transformer\",\n",
    "                \"accuracy\": accuracy_score(y_seq_test, trans_preds),\n",
    "                \"roc_auc\": roc_auc_score(y_seq_test, trans_proba)})\n",
    "\n",
    "# --- Save & Display ---\n",
    "results_df = pd.DataFrame(results)\n",
    "results_path = \"models/model_comparison_results.csv\"\n",
    "results_df.to_csv(results_path, index=False)\n",
    "print(results_df)\n",
    "\n",
    "# --- Plot Accuracy ---\n",
    "plt.figure(figsize=(10,4))\n",
    "plt.bar(results_df['model'], results_df['accuracy'])\n",
    "plt.title('Model Accuracy Comparison')\n",
    "plt.ylabel('Accuracy')\n",
    "plt.xticks(rotation=30, ha='right')\n",
    "plt.show()\n",
    "\n",
    "# --- Plot ROC AUC ---\n",
    "plt.figure(figsize=(10,4))\n",
    "plt.bar(results_df['model'], results_df['roc_auc'])\n",
    "plt.title('Model ROC AUC Comparison')\n",
    "plt.ylabel('ROC AUC')\n",
    "plt.xticks(rotation=30, ha='right')\n",
    "plt.show()"
   ]
  }
 ],
 "metadata": {
  "colab": {
   "provenance": []
  },
  "kernelspec": {
   "display_name": "Python 3 (ipykernel)",
   "language": "python",
   "name": "python3"
  },
  "language_info": {
   "codemirror_mode": {
    "name": "ipython",
    "version": 3
   },
   "file_extension": ".py",
   "mimetype": "text/x-python",
   "name": "python",
   "nbconvert_exporter": "python",
   "pygments_lexer": "ipython3",
   "version": "3.13.5"
  }
 },
 "nbformat": 4,
 "nbformat_minor": 5
}
